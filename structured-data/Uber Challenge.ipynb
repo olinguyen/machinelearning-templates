{
 "cells": [
  {
   "cell_type": "code",
   "execution_count": 2,
   "metadata": {
    "collapsed": true
   },
   "outputs": [],
   "source": [
    "import numpy as np\n",
    "import pandas as pd\n",
    "import matplotlib.pyplot as plt\n",
    "\n",
    "%matplotlib inline"
   ]
  },
  {
   "cell_type": "code",
   "execution_count": 3,
   "metadata": {},
   "outputs": [
    {
     "data": {
      "text/html": [
       "<div>\n",
       "<style>\n",
       "    .dataframe thead tr:only-child th {\n",
       "        text-align: right;\n",
       "    }\n",
       "\n",
       "    .dataframe thead th {\n",
       "        text-align: left;\n",
       "    }\n",
       "\n",
       "    .dataframe tbody tr th {\n",
       "        vertical-align: top;\n",
       "    }\n",
       "</style>\n",
       "<table border=\"1\" class=\"dataframe\">\n",
       "  <thead>\n",
       "    <tr style=\"text-align: right;\">\n",
       "      <th></th>\n",
       "      <th>id</th>\n",
       "      <th>city_name</th>\n",
       "      <th>signup_os</th>\n",
       "      <th>signup_channel</th>\n",
       "      <th>signup_date</th>\n",
       "      <th>bgc_date</th>\n",
       "      <th>vehicle_added_date</th>\n",
       "      <th>vehicle_make</th>\n",
       "      <th>vehicle_model</th>\n",
       "      <th>vehicle_year</th>\n",
       "      <th>first_completed_date</th>\n",
       "    </tr>\n",
       "  </thead>\n",
       "  <tbody>\n",
       "    <tr>\n",
       "      <th>0</th>\n",
       "      <td>1</td>\n",
       "      <td>Strark</td>\n",
       "      <td>ios web</td>\n",
       "      <td>Paid</td>\n",
       "      <td>1/2/16</td>\n",
       "      <td>NaN</td>\n",
       "      <td>NaN</td>\n",
       "      <td>NaN</td>\n",
       "      <td>NaN</td>\n",
       "      <td>NaN</td>\n",
       "      <td>NaN</td>\n",
       "    </tr>\n",
       "    <tr>\n",
       "      <th>1</th>\n",
       "      <td>2</td>\n",
       "      <td>Strark</td>\n",
       "      <td>windows</td>\n",
       "      <td>Paid</td>\n",
       "      <td>1/21/16</td>\n",
       "      <td>NaN</td>\n",
       "      <td>NaN</td>\n",
       "      <td>NaN</td>\n",
       "      <td>NaN</td>\n",
       "      <td>NaN</td>\n",
       "      <td>NaN</td>\n",
       "    </tr>\n",
       "    <tr>\n",
       "      <th>2</th>\n",
       "      <td>3</td>\n",
       "      <td>Wrouver</td>\n",
       "      <td>windows</td>\n",
       "      <td>Organic</td>\n",
       "      <td>1/11/16</td>\n",
       "      <td>1/11/16</td>\n",
       "      <td>NaN</td>\n",
       "      <td>NaN</td>\n",
       "      <td>NaN</td>\n",
       "      <td>NaN</td>\n",
       "      <td>NaN</td>\n",
       "    </tr>\n",
       "    <tr>\n",
       "      <th>3</th>\n",
       "      <td>4</td>\n",
       "      <td>Berton</td>\n",
       "      <td>android web</td>\n",
       "      <td>Referral</td>\n",
       "      <td>1/29/16</td>\n",
       "      <td>2/3/16</td>\n",
       "      <td>2/3/16</td>\n",
       "      <td>Toyota</td>\n",
       "      <td>Corolla</td>\n",
       "      <td>2016.0</td>\n",
       "      <td>2/3/16</td>\n",
       "    </tr>\n",
       "    <tr>\n",
       "      <th>4</th>\n",
       "      <td>5</td>\n",
       "      <td>Strark</td>\n",
       "      <td>android web</td>\n",
       "      <td>Referral</td>\n",
       "      <td>1/10/16</td>\n",
       "      <td>1/25/16</td>\n",
       "      <td>1/26/16</td>\n",
       "      <td>Hyundai</td>\n",
       "      <td>Sonata</td>\n",
       "      <td>2016.0</td>\n",
       "      <td>NaN</td>\n",
       "    </tr>\n",
       "  </tbody>\n",
       "</table>\n",
       "</div>"
      ],
      "text/plain": [
       "   id city_name    signup_os signup_channel signup_date bgc_date  \\\n",
       "0   1    Strark      ios web           Paid      1/2/16      NaN   \n",
       "1   2    Strark      windows           Paid     1/21/16      NaN   \n",
       "2   3   Wrouver      windows        Organic     1/11/16  1/11/16   \n",
       "3   4    Berton  android web       Referral     1/29/16   2/3/16   \n",
       "4   5    Strark  android web       Referral     1/10/16  1/25/16   \n",
       "\n",
       "  vehicle_added_date vehicle_make vehicle_model  vehicle_year  \\\n",
       "0                NaN          NaN           NaN           NaN   \n",
       "1                NaN          NaN           NaN           NaN   \n",
       "2                NaN          NaN           NaN           NaN   \n",
       "3             2/3/16       Toyota       Corolla        2016.0   \n",
       "4            1/26/16      Hyundai        Sonata        2016.0   \n",
       "\n",
       "  first_completed_date  \n",
       "0                  NaN  \n",
       "1                  NaN  \n",
       "2                  NaN  \n",
       "3               2/3/16  \n",
       "4                  NaN  "
      ]
     },
     "execution_count": 3,
     "metadata": {},
     "output_type": "execute_result"
    }
   ],
   "source": [
    "drivers_df = pd.read_csv('../../Uber-DS-Challenge/data/input/ds_challenge_v2_1_data.csv')\n",
    "drivers_df.head()"
   ]
  },
  {
   "cell_type": "code",
   "execution_count": 4,
   "metadata": {},
   "outputs": [
    {
     "name": "stdout",
     "output_type": "stream",
     "text": [
      "Total number of drivers: 54681\n",
      "Fraction of drivers that took a first trip: 0.1122\n",
      "Number of different car makers 47\n",
      "Number of different car models 369\n",
      "Type of sign up methods ['Paid' 'Organic' 'Referral']\n"
     ]
    }
   ],
   "source": [
    "num_drivers = len(drivers_df)\n",
    "print(\"Total number of drivers:\", num_drivers)\n",
    "\n",
    "pct_incomplete = np.mean(pd.isnull(drivers_df.first_completed_date))\n",
    "pct_complete = 1.0 - pct_incomplete\n",
    "\n",
    "print(\"Fraction of drivers that took a first trip: %.4f\" % pct_complete)\n",
    "\n",
    "car_makers = drivers_df.vehicle_make.unique()\n",
    "car_models = drivers_df.vehicle_model.unique()\n",
    "signup = drivers_df.signup_channel.unique()\n",
    "\n",
    "print(\"Number of different car makers %d\" % len(car_makers))\n",
    "print(\"Number of different car models %d\" % len(car_models))\n",
    "print(\"Type of sign up methods\", signup)"
   ]
  },
  {
   "cell_type": "code",
   "execution_count": 5,
   "metadata": {},
   "outputs": [
    {
     "name": "stdout",
     "output_type": "stream",
     "text": [
      "Index(['city_name', 'signup_os', 'signup_channel', 'signup_date', 'bgc_date',\n",
      "       'vehicle_added_date', 'vehicle_make', 'vehicle_model', 'vehicle_year'],\n",
      "      dtype='object')\n"
     ]
    }
   ],
   "source": [
    "features = drivers_df.columns[1:-1]\n",
    "print(features)"
   ]
  },
  {
   "cell_type": "code",
   "execution_count": 6,
   "metadata": {},
   "outputs": [
    {
     "name": "stdout",
     "output_type": "stream",
     "text": [
      "city_name 0 0.0\n",
      "signup_os 6857 0.125400047549\n",
      "signup_channel 0 0.0\n",
      "signup_date 0 0.0\n",
      "bgc_date 21785 0.398401638595\n",
      "vehicle_added_date 41547 0.759806879903\n",
      "vehicle_make 41458 0.758179257878\n",
      "vehicle_model 41458 0.758179257878\n",
      "vehicle_year 41458 0.758179257878\n"
     ]
    }
   ],
   "source": [
    "for feature in features:\n",
    "    n_missing = np.sum(pd.isnull(drivers_df.loc[:, feature]))\n",
    "    pct_missing = np.mean(pd.isnull(drivers_df.loc[:, feature]))\n",
    "    print(feature, n_missing, pct_missing)"
   ]
  },
  {
   "cell_type": "code",
   "execution_count": 7,
   "metadata": {},
   "outputs": [
    {
     "data": {
      "text/plain": [
       "Toyota           1684\n",
       "Honda             985\n",
       "Nissan            749\n",
       "Ford              427\n",
       "Chevrolet         407\n",
       "Hyundai           389\n",
       "Kia               330\n",
       "Volkswagen        283\n",
       "Dodge             233\n",
       "Mercedes-Benz     196\n",
       "BMW               192\n",
       "Lexus             174\n",
       "Mazda             163\n",
       "Subaru            128\n",
       "Chrysler          124\n",
       "Jeep              114\n",
       "Acura             101\n",
       "Infiniti           90\n",
       "Scion              85\n",
       "Audi               83\n",
       "Mitsubishi         76\n",
       "Cadillac           50\n",
       "GMC                47\n",
       "Volvo              42\n",
       "Lincoln            37\n",
       "Buick              24\n",
       "Pontiac            22\n",
       "Land Rover         16\n",
       "Saturn             16\n",
       "Mini               11\n",
       "Tesla               9\n",
       "Porsche             8\n",
       "Jaguar              8\n",
       "Fiat                7\n",
       "Autobot             7\n",
       "Suzuki              6\n",
       "Bike                5\n",
       "Hummer              5\n",
       "Saab                4\n",
       "Mercury             4\n",
       "Bicycle             4\n",
       "Bentley             2\n",
       "Maserati            1\n",
       "Walker              1\n",
       "Isuzu               1\n",
       "Name: vehicle_make, dtype: int64"
      ]
     },
     "execution_count": 7,
     "metadata": {},
     "output_type": "execute_result"
    }
   ],
   "source": [
    "null_completed_date = pd.isnull(drivers_df.first_completed_date)\n",
    "not_completed_df = drivers_df.loc[null_completed_date]\n",
    "completed_df = drivers_df.loc[~null_completed_date]\n",
    "\n",
    "not_completed_df.vehicle_make.value_counts()"
   ]
  },
  {
   "cell_type": "code",
   "execution_count": 8,
   "metadata": {},
   "outputs": [
    {
     "data": {
      "text/plain": [
       "<matplotlib.axes._subplots.AxesSubplot at 0x7f97eff92d30>"
      ]
     },
     "execution_count": 8,
     "metadata": {},
     "output_type": "execute_result"
    },
    {
     "data": {
      "image/png": "[encoded data removed]",
      "text/plain": [
       "<matplotlib.figure.Figure at 0x7f97efb82d30>"
      ]
     },
     "metadata": {},
     "output_type": "display_data"
    }
   ],
   "source": [
    "pd.concat((completed_df.vehicle_make.value_counts(), not_completed_df.vehicle_make.value_counts()), axis=1).plot(kind='barh', stacked=True, figsize=(12, 8))"
   ]
  },
  {
   "cell_type": "code",
   "execution_count": 9,
   "metadata": {},
   "outputs": [
    {
     "data": {
      "text/plain": [
       "<matplotlib.axes._subplots.AxesSubplot at 0x7f97ebc0ae80>"
      ]
     },
     "execution_count": 9,
     "metadata": {},
     "output_type": "execute_result"
    },
    {
     "data": {
      "image/png": "[encoded data removed]",
      "text/plain": [
       "<matplotlib.figure.Figure at 0x7f97ebcadfd0>"
      ]
     },
     "metadata": {},
     "output_type": "display_data"
    }
   ],
   "source": [
    "pd.concat((completed_df.signup_date.value_counts(), not_completed_df.signup_date.value_counts()), axis=1).plot(kind='barh', stacked=True, figsize=(12, 8))"
   ]
  },
  {
   "cell_type": "code",
   "execution_count": 10,
   "metadata": {},
   "outputs": [
    {
     "data": {
      "text/plain": [
       "<matplotlib.axes._subplots.AxesSubplot at 0x7f97eba4fa20>"
      ]
     },
     "execution_count": 10,
     "metadata": {},
     "output_type": "execute_result"
    },
    {
     "data": {
      "image/png": "[encoded data removed]",
      "text/plain": [
       "<matplotlib.figure.Figure at 0x7f97eb9b0eb8>"
      ]
     },
     "metadata": {},
     "output_type": "display_data"
    }
   ],
   "source": [
    "pd.concat((completed_df.vehicle_year.value_counts(), not_completed_df.vehicle_year.value_counts()), axis=1).plot(kind='barh', stacked=True, figsize=(12, 8))"
   ]
  },
  {
   "cell_type": "code",
   "execution_count": 12,
   "metadata": {},
   "outputs": [
    {
     "data": {
      "text/plain": [
       "<matplotlib.axes._subplots.AxesSubplot at 0x7f97eb773dd8>"
      ]
     },
     "execution_count": 12,
     "metadata": {},
     "output_type": "execute_result"
    },
    {
     "data": {
      "image/png": "[encoded data removed]",
      "text/plain": [
       "<matplotlib.figure.Figure at 0x7f97efb6dba8>"
      ]
     },
     "metadata": {},
     "output_type": "display_data"
    }
   ],
   "source": [
    "pd.concat((completed_df.signup_channel.value_counts(), not_completed_df.signup_channel.value_counts()), axis=1).plot(kind='barh', stacked=True, figsize=(12, 8))"
   ]
  },
  {
   "cell_type": "code",
   "execution_count": 166,
   "metadata": {},
   "outputs": [
    {
     "data": {
      "text/plain": [
       "<matplotlib.axes._subplots.AxesSubplot at 0x7f32e0207828>"
      ]
     },
     "execution_count": 166,
     "metadata": {},
     "output_type": "execute_result"
    },
    {
     "data": {
      "image/png": "[encoded data removed]",
      "text/plain": [
       "<matplotlib.figure.Figure at 0x7f32e00c5828>"
      ]
     },
     "metadata": {},
     "output_type": "display_data"
    }
   ],
   "source": [
    "pd.concat((completed_df.city_name.value_counts(), not_completed_df.city_name.value_counts()), axis=1).plot(kind='barh', stacked=True, figsize=(12, 8))"
   ]
  },
  {
   "cell_type": "code",
   "execution_count": 307,
   "metadata": {},
   "outputs": [
    {
     "data": {
      "text/plain": [
       "Index(['id', 'city_name', 'signup_os', 'signup_channel', 'signup_date',\n",
       "       'bgc_date', 'vehicle_added_date', 'vehicle_make', 'vehicle_model',\n",
       "       'vehicle_year', 'first_completed_date'],\n",
       "      dtype='object')"
      ]
     },
     "execution_count": 307,
     "metadata": {},
     "output_type": "execute_result"
    }
   ],
   "source": [
    "drivers_df.columns"
   ]
  },
  {
   "cell_type": "code",
   "execution_count": 15,
   "metadata": {},
   "outputs": [
    {
     "data": {
      "text/html": [
       "<div>\n",
       "<style>\n",
       "    .dataframe thead tr:only-child th {\n",
       "        text-align: right;\n",
       "    }\n",
       "\n",
       "    .dataframe thead th {\n",
       "        text-align: left;\n",
       "    }\n",
       "\n",
       "    .dataframe tbody tr th {\n",
       "        vertical-align: top;\n",
       "    }\n",
       "</style>\n",
       "<table border=\"1\" class=\"dataframe\">\n",
       "  <thead>\n",
       "    <tr style=\"text-align: right;\">\n",
       "      <th></th>\n",
       "      <th>id</th>\n",
       "      <th>signup_channel</th>\n",
       "      <th>signup_date</th>\n",
       "      <th>bgc_date</th>\n",
       "      <th>vehicle_added_date</th>\n",
       "      <th>vehicle_make</th>\n",
       "      <th>vehicle_year</th>\n",
       "      <th>first_completed_date</th>\n",
       "      <th>city_name_Berton</th>\n",
       "      <th>city_name_Strark</th>\n",
       "      <th>...</th>\n",
       "      <th>vehicle_model_ZDX</th>\n",
       "      <th>vehicle_model_Zephyr</th>\n",
       "      <th>vehicle_model_e-Golf</th>\n",
       "      <th>vehicle_model_i3</th>\n",
       "      <th>vehicle_model_iA</th>\n",
       "      <th>vehicle_model_iM</th>\n",
       "      <th>vehicle_model_tC</th>\n",
       "      <th>vehicle_model_xA</th>\n",
       "      <th>vehicle_model_xB</th>\n",
       "      <th>vehicle_model_xD</th>\n",
       "    </tr>\n",
       "  </thead>\n",
       "  <tbody>\n",
       "    <tr>\n",
       "      <th>0</th>\n",
       "      <td>1</td>\n",
       "      <td>Paid</td>\n",
       "      <td>1/2/16</td>\n",
       "      <td>NaN</td>\n",
       "      <td>NaN</td>\n",
       "      <td>NaN</td>\n",
       "      <td>NaN</td>\n",
       "      <td>NaN</td>\n",
       "      <td>0</td>\n",
       "      <td>1</td>\n",
       "      <td>...</td>\n",
       "      <td>0</td>\n",
       "      <td>0</td>\n",
       "      <td>0</td>\n",
       "      <td>0</td>\n",
       "      <td>0</td>\n",
       "      <td>0</td>\n",
       "      <td>0</td>\n",
       "      <td>0</td>\n",
       "      <td>0</td>\n",
       "      <td>0</td>\n",
       "    </tr>\n",
       "    <tr>\n",
       "      <th>1</th>\n",
       "      <td>2</td>\n",
       "      <td>Paid</td>\n",
       "      <td>1/21/16</td>\n",
       "      <td>NaN</td>\n",
       "      <td>NaN</td>\n",
       "      <td>NaN</td>\n",
       "      <td>NaN</td>\n",
       "      <td>NaN</td>\n",
       "      <td>0</td>\n",
       "      <td>1</td>\n",
       "      <td>...</td>\n",
       "      <td>0</td>\n",
       "      <td>0</td>\n",
       "      <td>0</td>\n",
       "      <td>0</td>\n",
       "      <td>0</td>\n",
       "      <td>0</td>\n",
       "      <td>0</td>\n",
       "      <td>0</td>\n",
       "      <td>0</td>\n",
       "      <td>0</td>\n",
       "    </tr>\n",
       "    <tr>\n",
       "      <th>2</th>\n",
       "      <td>3</td>\n",
       "      <td>Organic</td>\n",
       "      <td>1/11/16</td>\n",
       "      <td>1/11/16</td>\n",
       "      <td>NaN</td>\n",
       "      <td>NaN</td>\n",
       "      <td>NaN</td>\n",
       "      <td>NaN</td>\n",
       "      <td>0</td>\n",
       "      <td>0</td>\n",
       "      <td>...</td>\n",
       "      <td>0</td>\n",
       "      <td>0</td>\n",
       "      <td>0</td>\n",
       "      <td>0</td>\n",
       "      <td>0</td>\n",
       "      <td>0</td>\n",
       "      <td>0</td>\n",
       "      <td>0</td>\n",
       "      <td>0</td>\n",
       "      <td>0</td>\n",
       "    </tr>\n",
       "    <tr>\n",
       "      <th>3</th>\n",
       "      <td>4</td>\n",
       "      <td>Referral</td>\n",
       "      <td>1/29/16</td>\n",
       "      <td>2/3/16</td>\n",
       "      <td>2/3/16</td>\n",
       "      <td>Toyota</td>\n",
       "      <td>2016.0</td>\n",
       "      <td>2/3/16</td>\n",
       "      <td>1</td>\n",
       "      <td>0</td>\n",
       "      <td>...</td>\n",
       "      <td>0</td>\n",
       "      <td>0</td>\n",
       "      <td>0</td>\n",
       "      <td>0</td>\n",
       "      <td>0</td>\n",
       "      <td>0</td>\n",
       "      <td>0</td>\n",
       "      <td>0</td>\n",
       "      <td>0</td>\n",
       "      <td>0</td>\n",
       "    </tr>\n",
       "    <tr>\n",
       "      <th>4</th>\n",
       "      <td>5</td>\n",
       "      <td>Referral</td>\n",
       "      <td>1/10/16</td>\n",
       "      <td>1/25/16</td>\n",
       "      <td>1/26/16</td>\n",
       "      <td>Hyundai</td>\n",
       "      <td>2016.0</td>\n",
       "      <td>NaN</td>\n",
       "      <td>0</td>\n",
       "      <td>1</td>\n",
       "      <td>...</td>\n",
       "      <td>0</td>\n",
       "      <td>0</td>\n",
       "      <td>0</td>\n",
       "      <td>0</td>\n",
       "      <td>0</td>\n",
       "      <td>0</td>\n",
       "      <td>0</td>\n",
       "      <td>0</td>\n",
       "      <td>0</td>\n",
       "      <td>0</td>\n",
       "    </tr>\n",
       "  </tbody>\n",
       "</table>\n",
       "<p>5 rows × 384 columns</p>\n",
       "</div>"
      ],
      "text/plain": [
       "   id signup_channel signup_date bgc_date vehicle_added_date vehicle_make  \\\n",
       "0   1           Paid      1/2/16      NaN                NaN          NaN   \n",
       "1   2           Paid     1/21/16      NaN                NaN          NaN   \n",
       "2   3        Organic     1/11/16  1/11/16                NaN          NaN   \n",
       "3   4       Referral     1/29/16   2/3/16             2/3/16       Toyota   \n",
       "4   5       Referral     1/10/16  1/25/16            1/26/16      Hyundai   \n",
       "\n",
       "   vehicle_year first_completed_date  city_name_Berton  city_name_Strark  \\\n",
       "0           NaN                  NaN                 0                 1   \n",
       "1           NaN                  NaN                 0                 1   \n",
       "2           NaN                  NaN                 0                 0   \n",
       "3        2016.0               2/3/16                 1                 0   \n",
       "4        2016.0                  NaN                 0                 1   \n",
       "\n",
       "         ...         vehicle_model_ZDX  vehicle_model_Zephyr  \\\n",
       "0        ...                         0                     0   \n",
       "1        ...                         0                     0   \n",
       "2        ...                         0                     0   \n",
       "3        ...                         0                     0   \n",
       "4        ...                         0                     0   \n",
       "\n",
       "   vehicle_model_e-Golf  vehicle_model_i3  vehicle_model_iA  vehicle_model_iM  \\\n",
       "0                     0                 0                 0                 0   \n",
       "1                     0                 0                 0                 0   \n",
       "2                     0                 0                 0                 0   \n",
       "3                     0                 0                 0                 0   \n",
       "4                     0                 0                 0                 0   \n",
       "\n",
       "   vehicle_model_tC  vehicle_model_xA  vehicle_model_xB  vehicle_model_xD  \n",
       "0                 0                 0                 0                 0  \n",
       "1                 0                 0                 0                 0  \n",
       "2                 0                 0                 0                 0  \n",
       "3                 0                 0                 0                 0  \n",
       "4                 0                 0                 0                 0  \n",
       "\n",
       "[5 rows x 384 columns]"
      ]
     },
     "execution_count": 15,
     "metadata": {},
     "output_type": "execute_result"
    }
   ],
   "source": [
    "pd.get_dummies(drivers_df, columns=[\"city_name\", \"signup_os\", \"vehicle_model\"]).head()"
   ]
  },
  {
   "cell_type": "code",
   "execution_count": 308,
   "metadata": {
    "collapsed": true
   },
   "outputs": [],
   "source": [
    "drivers_df.city_name = drivers_df.city_name.astype('category').cat.codes\n",
    "drivers_df.signup_os = drivers_df.signup_os.astype('category').cat.codes\n",
    "drivers_df.signup_date = drivers_df.signup_date.astype('category').cat.codes\n",
    "drivers_df.signup_channel = drivers_df.signup_channel.astype('category').cat.codes\n",
    "drivers_df.bgc_date = drivers_df.bgc_date.astype('category').cat.codes\n",
    "\n",
    "drivers_df.vehicle_added_date = drivers_df.signup_channel.astype('category').cat.codes\n",
    "drivers_df.vehicle_make = drivers_df.vehicle_make.astype('category').cat.codes\n",
    "drivers_df.vehicle_model = drivers_df.vehicle_model.astype('category').cat.codes\n",
    "drivers_df.vehicle_year = drivers_df.vehicle_year.astype('category').cat.codes\n",
    "drivers_df['signed_up'] = (pd.isnull(drivers_df.first_completed_date) == False).astype(int)"
   ]
  },
  {
   "cell_type": "code",
   "execution_count": 316,
   "metadata": {
    "collapsed": true
   },
   "outputs": [],
   "source": [
    "import sklearn\n",
    "from sklearn.pipeline import Pipeline, FeatureUnion\n",
    "from sklearn.model_selection import GridSearchCV, StratifiedKFold, cross_val_score\n",
    "\n",
    "# Models\n",
    "from sklearn.linear_model import LogisticRegression\n",
    "from sklearn.svm import SVC, LinearSVC\n",
    "from sklearn.ensemble import RandomForestClassifier\n",
    "\n",
    "from sklearn.preprocessing import StandardScaler"
   ]
  },
  {
   "cell_type": "code",
   "execution_count": 310,
   "metadata": {},
   "outputs": [
    {
     "data": {
      "text/plain": [
       "6137"
      ]
     },
     "execution_count": 310,
     "metadata": {},
     "output_type": "execute_result"
    }
   ],
   "source": [
    "len(drivers_df.dropna())"
   ]
  },
  {
   "cell_type": "code",
   "execution_count": 314,
   "metadata": {},
   "outputs": [
    {
     "name": "stdout",
     "output_type": "stream",
     "text": [
      "(54681, 9) (54681,)\n"
     ]
    }
   ],
   "source": [
    "X = drivers_df.adrop(['id', 'first_completed_date', 'signed_up'], axis=1).as_matrix()\n",
    "y = drivers_df.signed_up\n",
    "\n",
    "print(X.shape, y.shape)"
   ]
  },
  {
   "cell_type": "code",
   "execution_count": 325,
   "metadata": {},
   "outputs": [
    {
     "name": "stderr",
     "output_type": "stream",
     "text": [
      "/home/olivier/anaconda3/lib/python3.5/site-packages/sklearn/utils/validation.py:429: DataConversionWarning: Data with input dtype int16 was converted to float64 by StandardScaler.\n",
      "  warnings.warn(msg, _DataConversionWarning)\n"
     ]
    }
   ],
   "source": [
    "scaler = StandardScaler()\n",
    "X = scaler.fit_transform(X)"
   ]
  },
  {
   "cell_type": "code",
   "execution_count": 317,
   "metadata": {},
   "outputs": [
    {
     "name": "stdout",
     "output_type": "stream",
     "text": [
      "0.11223276823759624\n"
     ]
    }
   ],
   "source": [
    "print(np.mean(y == 1))"
   ]
  },
  {
   "cell_type": "code",
   "execution_count": 244,
   "metadata": {},
   "outputs": [
    {
     "name": "stdout",
     "output_type": "stream",
     "text": [
      "38276 16405\n"
     ]
    }
   ],
   "source": [
    "split = int(len(y) * 0.7)\n",
    "\n",
    "X_train = X[:split]\n",
    "y_train = y[:split]\n",
    "\n",
    "X_test = X[split:]\n",
    "y_test = y[split:]\n",
    "\n",
    "print(len(X_train), len(X_test))"
   ]
  },
  {
   "cell_type": "code",
   "execution_count": 326,
   "metadata": {},
   "outputs": [
    {
     "name": "stdout",
     "output_type": "stream",
     "text": [
      "Mean AUC across 5 folds 0.9149513251977478\n",
      "Mean accuracy across 5 folds 0.8925951875173481\n"
     ]
    }
   ],
   "source": [
    "clf = LogisticRegression()\n",
    "scores = cross_val_score(clf, X, y, cv=5, scoring='roc_auc')\n",
    "print(\"Mean AUC across 5 folds\", np.mean(scores))\n",
    "scores = cross_val_score(clf, X, y, cv=5, scoring='accuracy')\n",
    "print(\"Mean accuracy across 5 folds\", np.mean(scores))"
   ]
  },
  {
   "cell_type": "code",
   "execution_count": 327,
   "metadata": {},
   "outputs": [
    {
     "name": "stdout",
     "output_type": "stream",
     "text": [
      "[[-0.10086543  0.25048062  0.12310498  0.09952932 -0.31457767  0.12310498\n",
      "   0.23110323  0.14547668  1.39337845]]\n",
      "[[-0.10086543  0.25048062  0.12310498  0.09952932 -0.31457767  0.12310498\n",
      "   0.23110323  0.14547668  1.39337845]]\n"
     ]
    }
   ],
   "source": [
    "clf.fit(X, y)\n",
    "\n",
    "# The estimated coefficients will all be around 1:\n",
    "print(clf.coef_)\n",
    "\n",
    "# Those values, however, will show that the second parameter\n",
    "# is more influential\n",
    "print(np.std(X, 0)*clf.coef_)"
   ]
  },
  {
   "cell_type": "code",
   "execution_count": 328,
   "metadata": {},
   "outputs": [
    {
     "name": "stdout",
     "output_type": "stream",
     "text": [
      "vehicle_year 1.3933784471992405\n",
      "signup_os 0.2504806178973195\n",
      "vehicle_make 0.23110323059953078\n",
      "vehicle_model 0.14547668232579783\n",
      "vehicle_added_date 0.12310497642663645\n",
      "signup_channel 0.12310497642663645\n",
      "signup_date 0.0995293152875014\n",
      "city_name -0.10086543052739189\n",
      "bgc_date -0.31457767079136606\n"
     ]
    }
   ],
   "source": [
    "features = drivers_df.columns[1:-2].values\n",
    "\n",
    "importances = clf.coef_[0]\n",
    "fi = {}\n",
    "for (feature_name, importance) in zip(features, importances):\n",
    "    fi[feature_name] = importance\n",
    "    \n",
    "for key, value in sorted(fi.items(), key=lambda x: x[1], reverse=True):\n",
    "    print(key, value)"
   ]
  },
  {
   "cell_type": "code",
   "execution_count": 329,
   "metadata": {},
   "outputs": [
    {
     "name": "stdout",
     "output_type": "stream",
     "text": [
      "Mean AUC across 5 folds 0.9148938212478266\n",
      "Mean accuracy across 5 folds 0.8941313898369577\n"
     ]
    }
   ],
   "source": [
    "clf = LinearSVC()\n",
    "scores = cross_val_score(clf, X, y, cv=5, scoring='roc_auc')\n",
    "print(\"Mean AUC across 5 folds\", np.mean(scores))\n",
    "scores = cross_val_score(clf, X, y, cv=5, scoring='accuracy')\n",
    "print(\"Mean accuracy across 5 folds\", np.mean(scores))"
   ]
  },
  {
   "cell_type": "code",
   "execution_count": 269,
   "metadata": {},
   "outputs": [
    {
     "data": {
      "text/plain": [
       "array(['city_name', 'signup_os', 'signup_channel', 'signup_date',\n",
       "       'bgc_date', 'vehicle_added_date', 'vehicle_make', 'vehicle_model',\n",
       "       'vehicle_year'], dtype=object)"
      ]
     },
     "execution_count": 269,
     "metadata": {},
     "output_type": "execute_result"
    }
   ],
   "source": [
    "drivers_df.columns[1:-2].values"
   ]
  },
  {
   "cell_type": "code",
   "execution_count": 330,
   "metadata": {},
   "outputs": [
    {
     "name": "stdout",
     "output_type": "stream",
     "text": [
      "Mean AUC across 5 folds 0.9273275523241992\n",
      "Mean accuracy across 5 folds 0.9118890364702121\n"
     ]
    }
   ],
   "source": [
    "clf = RandomForestClassifier()\n",
    "scores = cross_val_score(clf, X, y, cv=5, scoring='roc_auc')\n",
    "print(\"Mean AUC across 5 folds\", np.mean(scores))\n",
    "scores = cross_val_score(clf, X, y, cv=5, scoring='accuracy')\n",
    "print(\"Mean accuracy across 5 folds\", np.mean(scores))"
   ]
  },
  {
   "cell_type": "code",
   "execution_count": 281,
   "metadata": {},
   "outputs": [
    {
     "name": "stdout",
     "output_type": "stream",
     "text": [
      "vehicle_model 0.2407621018703348\n",
      "bgc_date 0.20689704433795178\n",
      "vehicle_year 0.2061386755472779\n",
      "vehicle_make 0.13439859317531094\n",
      "signup_date 0.11350757180593427\n",
      "signup_os 0.04672690130254563\n",
      "city_name 0.025785907980403488\n",
      "signup_channel 0.015900145524348888\n",
      "vehicle_added_date 0.009883058455892315\n"
     ]
    }
   ],
   "source": [
    "features = drivers_df.columns[1:-2].values\n",
    "\n",
    "importances = clf.feature_importances_\n",
    "fi = {}\n",
    "for (feature_name, importance) in zip(features, importances):\n",
    "    fi[feature_name] = importance\n",
    "    \n",
    "for key, value in sorted(fi.items(), key=lambda x: x[1], reverse=True):\n",
    "    print(key, value)"
   ]
  }
 ],
 "metadata": {
  "kernelspec": {
   "display_name": "Python [conda env:anaconda3]",
   "language": "python",
   "name": "conda-env-anaconda3-py"
  },
  "language_info": {
   "codemirror_mode": {
    "name": "ipython",
    "version": 3
   },
   "file_extension": ".py",
   "mimetype": "text/x-python",
   "name": "python",
   "nbconvert_exporter": "python",
   "pygments_lexer": "ipython3",
   "version": "3.5.3"
  }
 },
 "nbformat": 4,
 "nbformat_minor": 2
}
