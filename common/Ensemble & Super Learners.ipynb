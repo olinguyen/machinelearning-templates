{
 "cells": [
  {
   "cell_type": "code",
   "execution_count": 20,
   "metadata": {
    "collapsed": true
   },
   "outputs": [],
   "source": [
    "from sklearn.base import BaseEstimator, TransformerMixin\n",
    "from sklearn.ensemble import RandomForestClassifier, VotingClassifier, ExtraTreesClassifier\n",
    "from sklearn.linear_model import LogisticRegression\n",
    "from sklearn.naive_bayes import GaussianNB\n",
    "from sklearn.model_selection import GridSearchCV, cross_val_score\n",
    "from sklearn.pipeline import Pipeline\n",
    "from sklearn.preprocessing import PolynomialFeatures\n",
    "\n",
    "import numpy as np\n",
    "\n",
    "from sklearn.datasets import load_breast_cancer"
   ]
  },
  {
   "cell_type": "code",
   "execution_count": 22,
   "metadata": {},
   "outputs": [],
   "source": [
    "data = load_breast_cancer()\n",
    "X = data['data']\n",
    "y = data['target']"
   ]
  },
  {
   "cell_type": "markdown",
   "metadata": {},
   "source": [
    "## Custom sklearn estimator"
   ]
  },
  {
   "cell_type": "code",
   "execution_count": 24,
   "metadata": {
    "collapsed": true
   },
   "outputs": [],
   "source": [
    "class ProbExtractor(BaseEstimator, TransformerMixin):\n",
    "    \"\"\"\n",
    "    Combines predicted label probabilities of all models\n",
    "    \"\"\"    \n",
    "    def __init__(self, models):\n",
    "        self.models = models  \n",
    "\n",
    "    def transform(self, X, y=None):\n",
    "        y_probas = []\n",
    "        for model in self.models:\n",
    "            y_prob = model.predict_proba(X)[:, 1]\n",
    "            y_probas.append(y_prob)\n",
    "            \n",
    "        return np.array(y_probas).transpose()\n",
    "\n",
    "    def fit(self, X, y=None):\n",
    "        for model in self.models:\n",
    "            model.fit(X, y)\n",
    "        return self "
   ]
  },
  {
   "cell_type": "code",
   "execution_count": 25,
   "metadata": {},
   "outputs": [
    {
     "name": "stdout",
     "output_type": "stream",
     "text": [
      "(569, 3)\n"
     ]
    }
   ],
   "source": [
    "rf = RandomForestClassifier()\n",
    "nb = GaussianNB()\n",
    "lr = LogisticRegression()\n",
    "\n",
    "probas = ProbExtractor([rf,\n",
    "                        nb,\n",
    "                        lr])\n",
    "\n",
    "probas.fit(X, y)\n",
    "print(probas.transform(X, y).shape)"
   ]
  },
  {
   "cell_type": "markdown",
   "metadata": {},
   "source": [
    "### Combining with a meta-learner"
   ]
  },
  {
   "cell_type": "code",
   "execution_count": 27,
   "metadata": {},
   "outputs": [
    {
     "name": "stdout",
     "output_type": "stream",
     "text": [
      "0.993170521839\n"
     ]
    }
   ],
   "source": [
    "params = {'C': [0.001, 0.01, 0.1, 1, 10, 100, 1000]}\n",
    "\n",
    "model = Pipeline([           \n",
    "            ('proba', ProbExtractor([RandomForestClassifier(n_estimators=300),\n",
    "                                    ExtraTreesClassifier(n_estimators=300),\n",
    "                                    LogisticRegression(),\n",
    "                                    GaussianNB()])),\n",
    "        \n",
    "            ('polynomial', PolynomialFeatures(degree=2)),\n",
    "        \n",
    "            ('logistic_regression', GridSearchCV(\n",
    "                        LogisticRegression(penalty='l2', \n",
    "                                           random_state=42), \n",
    "                                           param_grid=params))\n",
    "        ])\n",
    "\n",
    "score = cross_val_score(model, X, y, cv=5, scoring='roc_auc').mean()\n",
    "print(score)"
   ]
  },
  {
   "cell_type": "markdown",
   "metadata": {},
   "source": [
    "## Voting classifier"
   ]
  },
  {
   "cell_type": "code",
   "execution_count": 28,
   "metadata": {},
   "outputs": [
    {
     "data": {
      "text/plain": [
       "(569,)"
      ]
     },
     "execution_count": 28,
     "metadata": {},
     "output_type": "execute_result"
    }
   ],
   "source": [
    "eclf = VotingClassifier(estimators=[('rf', rf), ('gnb', nb), ('lr', lr)], voting='hard')\n",
    "eclf.fit(X, y)\n",
    "eclf.predict(X).shape"
   ]
  }
 ],
 "metadata": {
  "kernelspec": {
   "display_name": "Python [conda env:anaconda3]",
   "language": "python",
   "name": "conda-env-anaconda3-py"
  },
  "language_info": {
   "codemirror_mode": {
    "name": "ipython",
    "version": 3
   },
   "file_extension": ".py",
   "mimetype": "text/x-python",
   "name": "python",
   "nbconvert_exporter": "python",
   "pygments_lexer": "ipython3",
   "version": "3.5.3"
  }
 },
 "nbformat": 4,
 "nbformat_minor": 2
}
